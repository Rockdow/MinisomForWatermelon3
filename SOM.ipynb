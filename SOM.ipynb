{
 "cells": [
  {
   "cell_type": "code",
   "execution_count": 21,
   "id": "56bc97b2",
   "metadata": {},
   "outputs": [
    {
     "data": {
      "image/png": "[encoded data removed]",
      "text/plain": [
       "<Figure size 720x648 with 2 Axes>"
      ]
     },
     "metadata": {
      "needs_background": "light"
     },
     "output_type": "display_data"
    }
   ],
   "source": [
    "import numpy as np\n",
    "\n",
    "# 读取3.0α数据集\n",
    "data_file = open('watermelon3a.csv')\n",
    "dataset = np.loadtxt(data_file, delimiter=\",\")\n",
    "\n",
    "class  MinMaxScaler:\n",
    "    def __init__(self):\n",
    "        self.min_ = None\n",
    "        self.max_ = None\n",
    "    def fit(self,X):\n",
    "        '''根据训练数据集X获得数据的最小值和最大值'''\n",
    "        self.min_ = np.array([np.min(X[:,i]) for i in range(X.shape[1])])\n",
    "        self.max_ = np.array([np.max(X[:,i]) for i in range(X.shape[1])])\n",
    "        return self\n",
    "    def transform(self,X):\n",
    "        '''将X根据MinMaxScaler进行最值归一化处理'''\n",
    "        resX = np.empty(shape=X.shape,dtype=float)\n",
    "        for col in range(X.shape[1]):\n",
    "            resX[:,col] = (X[:,col]-self.min_[col]) / (self.max_[col]-self.min_[col])\n",
    "        return resX\n",
    "#分割训练数据和标签\n",
    "data = dataset[:,1:3]\n",
    "label = dataset[:,3]\n",
    "\n",
    "#对训练数据归一化处理\n",
    "MinMaxScaler = MinMaxScaler()\n",
    "MinMaxScaler.fit(data)\n",
    "data = MinMaxScaler.transform(data)\n",
    "\n",
    "import matplotlib.pyplot as plt\n",
    "%matplotlib inline\n",
    "\n",
    "#导入外部的MiniSom作为SOM的实现类\n",
    "from minisom import MiniSom   \n",
    "import pickle\n",
    "# 使用默认的高斯函数作为邻域函数\n",
    "som = MiniSom(5, 5, 2, sigma=0.5, learning_rate=0.6)\n",
    "som.pca_weights_init(data)\n",
    "som.train(data,100)\n",
    "\n",
    "# 得到数据对应的竞争层节点，并画出它们的位置\n",
    "w_x, w_y = zip(*[som.winner(d) for d in data])\n",
    "w_x = np.array(w_x)\n",
    "w_y = np.array(w_y)\n",
    "\n",
    "plt.figure(figsize=(10, 9))\n",
    "plt.pcolor(som.distance_map().T, cmap='bone_r', alpha=.2)\n",
    "plt.colorbar()\n",
    "label_names = {0:'bad', 1:'good'}\n",
    "for c in np.unique(label):\n",
    "    idx_target = label==c\n",
    "    plt.scatter(w_x[idx_target]+.5+(np.random.rand(np.sum(idx_target))-.5)*.8,\n",
    "                w_y[idx_target]+.5+(np.random.rand(np.sum(idx_target))-.5)*.8, \n",
    "                s=50, c=colors[int(c)], label=label_names[c])\n",
    "plt.legend(loc='upper right')\n",
    "plt.grid()\n",
    "plt.show()\n",
    "\n"
   ]
  },
  {
   "cell_type": "code",
   "execution_count": 2,
   "id": "35917591",
   "metadata": {},
   "outputs": [
    {
     "ename": "TypeError",
     "evalue": "int() argument must be a string, a bytes-like object or a number, not 'list'",
     "output_type": "error",
     "traceback": [
      "\u001b[1;31m---------------------------------------------------------------------------\u001b[0m",
      "\u001b[1;31mTypeError\u001b[0m                                 Traceback (most recent call last)",
      "Input \u001b[1;32mIn [2]\u001b[0m, in \u001b[0;36m<cell line: 2>\u001b[1;34m()\u001b[0m\n\u001b[0;32m      1\u001b[0m y\u001b[38;5;241m=\u001b[39m[\u001b[38;5;241m1.0\u001b[39m,\u001b[38;5;241m2.0\u001b[39m] \n\u001b[1;32m----> 2\u001b[0m \u001b[38;5;28mprint\u001b[39m(\u001b[38;5;28;43mint\u001b[39;49m\u001b[43m(\u001b[49m\u001b[43my\u001b[49m\u001b[43m)\u001b[49m)\n",
      "\u001b[1;31mTypeError\u001b[0m: int() argument must be a string, a bytes-like object or a number, not 'list'"
     ]
    }
   ],
   "source": [
    "y=[1.0,2.0] \n",
    "print(int(y))"
   ]
  },
  {
   "cell_type": "code",
   "execution_count": null,
   "id": "5cac5687",
   "metadata": {},
   "outputs": [],
   "source": []
  }
 ],
 "metadata": {
  "kernelspec": {
   "display_name": "Python 3",
   "language": "python",
   "name": "python3"
  },
  "language_info": {
   "codemirror_mode": {
    "name": "ipython",
    "version": 3
   },
   "file_extension": ".py",
   "mimetype": "text/x-python",
   "name": "python",
   "nbconvert_exporter": "python",
   "pygments_lexer": "ipython3",
   "version": "3.8.8"
  }
 },
 "nbformat": 4,
 "nbformat_minor": 5
}
